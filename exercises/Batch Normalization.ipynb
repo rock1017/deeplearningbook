{
 "cells": [
  {
   "cell_type": "markdown",
   "metadata": {},
   "source": [
    "Ref: https://arxiv.org/pdf/1502.03167.pdf, http://r2rt.com/implementing-batch-normalization-in-tensorflow.html"
   ]
  },
  {
   "cell_type": "code",
   "execution_count": 1,
   "metadata": {
    "collapsed": true
   },
   "outputs": [],
   "source": [
    "# Import data\n",
    "from tensorflow.examples.tutorials.mnist import input_data\n",
    "import tensorflow as tf\n",
    "\n",
    "flags = tf.app.flags\n",
    "FLAGS = flags.FLAGS\n",
    "flags.DEFINE_string('data_dir', '/tmp/data/', 'Directory for storing data')"
   ]
  },
  {
   "cell_type": "code",
   "execution_count": 2,
   "metadata": {
    "collapsed": true
   },
   "outputs": [],
   "source": [
    "%matplotlib inline\n",
    "import matplotlib.pyplot as plt"
   ]
  },
  {
   "cell_type": "code",
   "execution_count": 3,
   "metadata": {
    "collapsed": true
   },
   "outputs": [],
   "source": [
    "from sklearn.metrics import accuracy_score\n",
    "import numpy as np\n",
    "import time\n",
    "from functools import partial"
   ]
  },
  {
   "cell_type": "code",
   "execution_count": 4,
   "metadata": {
    "collapsed": true
   },
   "outputs": [],
   "source": [
    "sess = tf.InteractiveSession()"
   ]
  },
  {
   "cell_type": "code",
   "execution_count": 5,
   "metadata": {
    "collapsed": false
   },
   "outputs": [
    {
     "name": "stdout",
     "output_type": "stream",
     "text": [
      "Extracting /tmp/data/train-images-idx3-ubyte.gz\n",
      "Extracting /tmp/data/train-labels-idx1-ubyte.gz\n",
      "Extracting /tmp/data/t10k-images-idx3-ubyte.gz\n",
      "Extracting /tmp/data/t10k-labels-idx1-ubyte.gz\n"
     ]
    }
   ],
   "source": [
    "mnist = input_data.read_data_sets(FLAGS.data_dir, one_hot=True)"
   ]
  },
  {
   "cell_type": "code",
   "execution_count": null,
   "metadata": {
    "collapsed": true
   },
   "outputs": [],
   "source": []
  },
  {
   "cell_type": "markdown",
   "metadata": {},
   "source": [
    "## Simple MLP Implementation"
   ]
  },
  {
   "cell_type": "code",
   "execution_count": 6,
   "metadata": {
    "collapsed": true
   },
   "outputs": [],
   "source": [
    "class NeuralNet:\n",
    "    # 3 layers, 100 hidden unit each\n",
    "    def __init__(self, h=100, epoch=100, learning_rate=0.5, batch_size=100,\n",
    "                 activate_f='sigmoid'):\n",
    "        self.h = h\n",
    "        self.epoch = epoch\n",
    "        self.learning_rate = learning_rate\n",
    "        self.batch_size = batch_size\n",
    "        self.activate_f = activate_f\n",
    "        self.W1 = None\n",
    "        self.W2 = None\n",
    "        self.W3 = None\n",
    "        self.W4 = None\n",
    "        self.b1 = None\n",
    "        self.b2 = None\n",
    "        self.b3 = None\n",
    "        self.b4 = None\n",
    "        self.test_accuracy = []\n",
    "\n",
    "    def fit(self, train, step_handler=None):\n",
    "        batch_X, batch_y = train.next_batch(self.batch_size)\n",
    "        d = batch_X.shape[1]\n",
    "        c = batch_y.shape[1]\n",
    "\n",
    "        tf_X = tf.placeholder(tf.float32, [None, d])\n",
    "        tf_y = tf.placeholder(tf.float32, [None, c])\n",
    "        self.W1 = tf.Variable(tf.random_normal([d, self.h], seed=1)/d)\n",
    "        self.b1 = tf.Variable(tf.zeros(self.h))\n",
    "        self.W2 = tf.Variable(tf.random_normal([self.h, self.h], seed=1)/self.h)\n",
    "        self.b2 = tf.Variable(tf.zeros(self.h))\n",
    "        self.W3 = tf.Variable(tf.random_normal([self.h, self.h], seed=1)/self.h)\n",
    "        self.b3 = tf.Variable(tf.zeros(self.h))\n",
    "        self.W4 = tf.Variable(tf.random_normal([self.h, c], seed=1)/self.h)\n",
    "        self.b4 = tf.Variable(tf.zeros(c))\n",
    "\n",
    "        z1 = tf.matmul(tf_X, self.W1) + self.b1\n",
    "        a1 = self.activation_func(z1)\n",
    "        z2 = tf.matmul(a1, self.W2) + self.b2\n",
    "        a2 = self.activation_func(z2)\n",
    "        z3 = tf.matmul(a2, self.W3) + self.b3\n",
    "        a3 = self.activation_func(z3)\n",
    "        z4 = tf.matmul(a3, self.W4) + self.b4\n",
    "        cross_entropy = tf.reduce_mean(tf.nn.softmax_cross_entropy_with_logits(z4, tf_y))\n",
    "        train_step = tf.train.GradientDescentOptimizer(self.learning_rate).minimize(cross_entropy)\n",
    "\n",
    "        sess.run(tf.initialize_variables([\n",
    "            self.W1, self.b1, self.W2, self.b2, self.W3, self.b3, self.W4, self.b4\n",
    "        ]))\n",
    "        for i in range(self.epoch):\n",
    "            if i != 0:\n",
    "                batch_X, batch_y = train.next_batch(self.batch_size)\n",
    "            start_time = time.time()\n",
    "            sess.run(train_step, feed_dict={tf_X: batch_X, tf_y: batch_y})\n",
    "            if ((i+1) % (self.epoch / 10) == 0):\n",
    "                correct_prediction = tf.equal(tf.arg_max(tf.nn.softmax(z4),1),tf.arg_max(tf_y, 1))\n",
    "                accuracy = tf.reduce_mean(tf.cast(correct_prediction, tf.float32))\n",
    "                cost, acc = sess.run([cross_entropy, accuracy], feed_dict={\n",
    "                    tf_X: batch_X, tf_y: batch_y\n",
    "                })\n",
    "                print \"Epoch %d: %fs. Loss: %f. Accuracy: %f.\" % (i+1, time.time()-start_time, cost, acc)\n",
    "            \n",
    "            if step_handler:\n",
    "                step_handler(self, i+1)\n",
    "\n",
    "    def predict(self, X):\n",
    "        tf_X = tf.placeholder(tf.float32, [None, X.shape[1]])\n",
    "        z1 = tf.matmul(tf_X, self.W1) + self.b1\n",
    "        a1 = self.activation_func(z1)\n",
    "        z2 = tf.matmul(a1, self.W2) + self.b2\n",
    "        a2 = self.activation_func(z2)\n",
    "        z3 = tf.matmul(a2, self.W3) + self.b3\n",
    "        a3 = self.activation_func(z3)\n",
    "        z4 = tf.matmul(a3, self.W4) + self.b4\n",
    "        y_hat = tf.nn.softmax(z4)\n",
    "\n",
    "        return sess.run(y_hat, feed_dict={tf_X: X})\n",
    "    \n",
    "    def activation_func(self, tensor):\n",
    "        if self.activate_f == 'sigmoid':\n",
    "            return tf.sigmoid(tensor)\n",
    "        elif self.activate_f == 'relu':\n",
    "            return tf.nn.relu(tensor)\n",
    "        else:\n",
    "            return tf.sigmoid(tensor)"
   ]
  },
  {
   "cell_type": "code",
   "execution_count": 7,
   "metadata": {
    "collapsed": true
   },
   "outputs": [],
   "source": [
    "def step_handler(nn, step, test_accuracy):\n",
    "    if step % 500 == 0:\n",
    "        y_hat = nn.predict(mnist.test.images)\n",
    "        accuracy = accuracy_score(np.argmax(mnist.test.labels, 1), np.argmax(y_hat, 1))\n",
    "        test_accuracy.append((step, accuracy))"
   ]
  },
  {
   "cell_type": "code",
   "execution_count": 15,
   "metadata": {
    "collapsed": false
   },
   "outputs": [
    {
     "name": "stdout",
     "output_type": "stream",
     "text": [
      "Epoch 5000: 0.096706s. Loss: 1.152207. Accuracy: 0.633333.\n",
      "Epoch 10000: 0.105734s. Loss: 0.237346. Accuracy: 0.950000.\n",
      "Epoch 15000: 0.102577s. Loss: 0.092718. Accuracy: 0.966667.\n",
      "Epoch 20000: 0.111731s. Loss: 0.008641. Accuracy: 1.000000.\n",
      "Epoch 25000: 0.101261s. Loss: 0.004759. Accuracy: 1.000000.\n",
      "Epoch 30000: 0.102670s. Loss: 0.004017. Accuracy: 1.000000.\n",
      "Epoch 35000: 0.112291s. Loss: 0.005024. Accuracy: 1.000000.\n",
      "Epoch 40000: 0.111145s. Loss: 0.008679. Accuracy: 1.000000.\n",
      "Epoch 45000: 0.115509s. Loss: 0.001194. Accuracy: 1.000000.\n",
      "Epoch 50000: 0.114919s. Loss: 0.000851. Accuracy: 1.000000.\n",
      "189.739668846\n"
     ]
    }
   ],
   "source": [
    "nn_test_accuracy = []\n",
    "nn = NeuralNet(epoch=50000, batch_size=60, learning_rate=0.5)\n",
    "start_time = time.time()\n",
    "nn.fit(mnist.train, step_handler=partial(step_handler, test_accuracy=nn_test_accuracy))\n",
    "print time.time() - start_time"
   ]
  },
  {
   "cell_type": "code",
   "execution_count": 9,
   "metadata": {
    "collapsed": false
   },
   "outputs": [
    {
     "data": {
      "text/plain": [
       "0.94540000000000002"
      ]
     },
     "execution_count": 9,
     "metadata": {},
     "output_type": "execute_result"
    }
   ],
   "source": [
    "y_hat = nn.predict(mnist.test.images)\n",
    "accuracy_score(np.argmax(mnist.test.labels, 1), np.argmax(y_hat, 1))"
   ]
  },
  {
   "cell_type": "markdown",
   "metadata": {},
   "source": [
    "## Batch Normalization Implementation"
   ]
  },
  {
   "cell_type": "code",
   "execution_count": 11,
   "metadata": {
    "collapsed": true
   },
   "outputs": [],
   "source": [
    "class BNNeuralNet:\n",
    "    # 3 layers, 100 hidden unit each\n",
    "    def __init__(self, h=100, epoch=100, learning_rate=0.5, batch_size=100,\n",
    "                 activate_f='sigmoid', bn_variance_epsilon=0.0001):\n",
    "        self.h = h\n",
    "        self.epoch = epoch\n",
    "        self.learning_rate = learning_rate\n",
    "        self.batch_size = batch_size\n",
    "        self.activate_f = activate_f\n",
    "        self.bn_variance_epsilon = bn_variance_epsilon\n",
    "        self.W1 = None\n",
    "        self.W2 = None\n",
    "        self.W3 = None\n",
    "        self.W4 = None\n",
    "        self.b1 = None\n",
    "        self.b2 = None\n",
    "        self.b3 = None\n",
    "        self.b4 = None\n",
    "\n",
    "        self.bn_g1 = None\n",
    "        self.bn_g2 = None\n",
    "        self.bn_g3 = None\n",
    "        self.bn_b1 = None\n",
    "        self.bn_b2 = None\n",
    "        self.bn_b3 = None\n",
    "\n",
    "        self.bn_m1 = None\n",
    "        self.bn_m2 = None\n",
    "        self.bn_m3 = None\n",
    "        self.bn_v1 = None\n",
    "        self.bn_v2 = None\n",
    "        self.bn_v3 = None\n",
    "    \n",
    "    def fit(self, train, step_handler=None):\n",
    "        batch_X, batch_y = train.next_batch(self.batch_size)\n",
    "        d = batch_X.shape[1]\n",
    "        c = batch_y.shape[1]\n",
    "\n",
    "        tf_X = tf.placeholder(tf.float32, [None, d])\n",
    "        tf_y = tf.placeholder(tf.float32, [None, c])\n",
    "        self.W1 = tf.Variable(tf.random_normal([d, self.h], seed=1)/d)\n",
    "        self.b1 = tf.Variable(tf.zeros(self.h))\n",
    "        self.bn_g1 = tf.Variable(tf.random_normal([self.h], seed=1)/self.h)\n",
    "        self.bn_b1 = tf.Variable(tf.zeros(self.h))\n",
    "        self.bn_m1 = tf.Variable(tf.zeros(self.h))\n",
    "        self.bn_v1 = tf.Variable(tf.zeros(self.h))\n",
    "\n",
    "        self.W2 = tf.Variable(tf.random_normal([self.h, self.h], seed=1)/self.h)\n",
    "        self.b2 = tf.Variable(tf.zeros(self.h))\n",
    "        self.bn_g2 = tf.Variable(tf.random_normal([self.h], seed=1)/self.h)\n",
    "        self.bn_b2 = tf.Variable(tf.zeros(self.h))\n",
    "        self.bn_m2 = tf.Variable(tf.zeros(self.h))\n",
    "        self.bn_v2 = tf.Variable(tf.zeros(self.h))\n",
    "\n",
    "        self.W3 = tf.Variable(tf.random_normal([self.h, self.h], seed=1)/self.h)\n",
    "        self.b3 = tf.Variable(tf.zeros(self.h))\n",
    "        self.bn_g3 = tf.Variable(tf.random_normal([self.h], seed=1)/self.h)\n",
    "        self.bn_b3 = tf.Variable(tf.zeros(self.h))\n",
    "        self.bn_m3 = tf.Variable(tf.zeros(self.h))\n",
    "        self.bn_v3 = tf.Variable(tf.zeros(self.h))\n",
    "\n",
    "        self.W4 = tf.Variable(tf.random_normal([self.h, c], seed=1)/self.h)\n",
    "        self.b4 = tf.Variable(tf.zeros(c))\n",
    "        \n",
    "        z1 = tf.matmul(tf_X, self.W1) + self.b1\n",
    "        m1,v1 = tf.nn.moments(z1, [0])\n",
    "        bn1 = tf.nn.batch_normalization(z1, m1, v1, self.bn_b1, self.bn_g1, self.bn_variance_epsilon)\n",
    "        a1 = self.activation_func(bn1)\n",
    "\n",
    "        z2 = tf.matmul(a1, self.W2) + self.b2\n",
    "        m2,v2 = tf.nn.moments(z2, [0])\n",
    "        bn2 = tf.nn.batch_normalization(z2, m2, v2, self.bn_b2, self.bn_g2, self.bn_variance_epsilon)\n",
    "        a2 = self.activation_func(bn2)\n",
    "\n",
    "        z3 = tf.matmul(a2, self.W3) + self.b3\n",
    "        m3,v3 = tf.nn.moments(z3, [0])\n",
    "        bn3 = tf.nn.batch_normalization(z3, m3, v3, self.bn_b3, self.bn_g3, self.bn_variance_epsilon)\n",
    "        a3 = self.activation_func(bn3)\n",
    "\n",
    "        z4 = tf.matmul(a3, self.W4) + self.b4\n",
    "        cross_entropy = tf.reduce_mean(tf.nn.softmax_cross_entropy_with_logits(z4, tf_y))\n",
    "        train_step = tf.train.GradientDescentOptimizer(self.learning_rate).minimize(cross_entropy)\n",
    "        \n",
    "        steps = [\n",
    "            train_step,\n",
    "            tf.assign(self.bn_m1, self._moving_average(self.bn_m1, m1)),\n",
    "            tf.assign(self.bn_v1, self._moving_average(self.bn_v1, v1)),\n",
    "            tf.assign(self.bn_m2, self._moving_average(self.bn_m2, m2)),\n",
    "            tf.assign(self.bn_v2, self._moving_average(self.bn_v2, v2)),\n",
    "            tf.assign(self.bn_m3, self._moving_average(self.bn_m3, m3)),\n",
    "            tf.assign(self.bn_v3, self._moving_average(self.bn_v3, v3)),\n",
    "        ]\n",
    "\n",
    "        sess.run(tf.initialize_variables([\n",
    "            self.W1, self.b1, self.W2, self.b2, self.W3, self.b3, self.W4, self.b4,\n",
    "            self.bn_g1, self.bn_b1, self.bn_g2, self.bn_b2, self.bn_g3, self.bn_b3,\n",
    "            self.bn_m1, self.bn_v1, self.bn_m2, self.bn_v2, self.bn_m3, self.bn_v3\n",
    "        ]))\n",
    "        for i in range(self.epoch):\n",
    "            if i != 0:\n",
    "                batch_X, batch_y = train.next_batch(self.batch_size)\n",
    "            start_time = time.time()\n",
    "            sess.run(steps, feed_dict={tf_X: batch_X, tf_y: batch_y})\n",
    "            if ((i+1) % (self.epoch / 10) == 0):\n",
    "                correct_prediction = tf.equal(tf.arg_max(tf.nn.softmax(z4),1),tf.arg_max(tf_y, 1))\n",
    "                accuracy = tf.reduce_mean(tf.cast(correct_prediction, tf.float32))\n",
    "                cost, acc = sess.run([cross_entropy, accuracy], feed_dict={\n",
    "                    tf_X: batch_X, tf_y: batch_y\n",
    "                })\n",
    "                print \"Epoch %d: %fs. Loss: %f. Accuracy: %f.\" % (i+1, time.time()-start_time, cost, acc)\n",
    "\n",
    "            if step_handler:\n",
    "                step_handler(self, i+1)\n",
    "\n",
    "    def predict(self, X):\n",
    "        tf_X = tf.placeholder(tf.float32, [None, X.shape[1]])\n",
    "        z1 = tf.matmul(tf_X, self.W1) + self.b1\n",
    "        bn1 = tf.nn.batch_normalization(z1, self.bn_m1, self.bn_v1, self.bn_b1, self.bn_g1, self.bn_variance_epsilon)\n",
    "        a1 = self.activation_func(bn1)\n",
    "        z2 = tf.matmul(a1, self.W2) + self.b2\n",
    "        bn2 = tf.nn.batch_normalization(z2, self.bn_m2, self.bn_v2, self.bn_b2, self.bn_g2, self.bn_variance_epsilon)\n",
    "        a2 = self.activation_func(bn2)\n",
    "        z3 = tf.matmul(a2, self.W3) + self.b3\n",
    "        bn3 = tf.nn.batch_normalization(z3, self.bn_m3, self.bn_v3, self.bn_b3, self.bn_g3, self.bn_variance_epsilon)\n",
    "        a3 = self.activation_func(bn3)\n",
    "        z4 = tf.matmul(a3, self.W4) + self.b4\n",
    "        y_hat = tf.nn.softmax(z4)\n",
    "\n",
    "        return sess.run(y_hat, feed_dict={tf_X: X})\n",
    "    \n",
    "    def activation_func(self, tensor):\n",
    "        if self.activate_f == 'sigmoid':\n",
    "            return tf.sigmoid(tensor)\n",
    "        elif self.activate_f == 'relu':\n",
    "            return tf.nn.relu(tensor)\n",
    "        else:\n",
    "            return tf.sigmoid(tensor)\n",
    "    \n",
    "    def _unbias_variance(self, variance):\n",
    "        return (float(self.batch_size) / (self.batch_size - 1)) * variance\n",
    "\n",
    "    def _moving_average(self, variable, value, decay=0.999):\n",
    "        return decay * variable + (1 - decay) * value"
   ]
  },
  {
   "cell_type": "code",
   "execution_count": 17,
   "metadata": {
    "collapsed": false
   },
   "outputs": [
    {
     "name": "stdout",
     "output_type": "stream",
     "text": [
      "Epoch 5000: 0.156111s. Loss: 0.061498. Accuracy: 1.000000.\n",
      "Epoch 10000: 0.146835s. Loss: 0.047132. Accuracy: 1.000000.\n",
      "Epoch 15000: 0.165430s. Loss: 0.022959. Accuracy: 1.000000.\n",
      "Epoch 20000: 0.155408s. Loss: 0.015888. Accuracy: 1.000000.\n",
      "Epoch 25000: 0.152101s. Loss: 0.010830. Accuracy: 1.000000.\n",
      "Epoch 30000: 0.160446s. Loss: 0.010816. Accuracy: 1.000000.\n",
      "Epoch 35000: 0.176706s. Loss: 0.010304. Accuracy: 1.000000.\n",
      "Epoch 40000: 0.175432s. Loss: 0.003185. Accuracy: 1.000000.\n",
      "Epoch 45000: 0.186468s. Loss: 0.003712. Accuracy: 1.000000.\n",
      "Epoch 50000: 0.197954s. Loss: 0.001635. Accuracy: 1.000000.\n",
      "354.319107056\n"
     ]
    }
   ],
   "source": [
    "bnnn_test_accuracy = []\n",
    "bnnn = BNNeuralNet(epoch=50000, batch_size=60, learning_rate=0.5, bn_variance_epsilon=1e-6)\n",
    "start_time = time.time()\n",
    "bnnn.fit(mnist.train, step_handler=partial(step_handler, test_accuracy=bnnn_test_accuracy))\n",
    "print time.time() - start_time"
   ]
  },
  {
   "cell_type": "code",
   "execution_count": 18,
   "metadata": {
    "collapsed": false
   },
   "outputs": [
    {
     "data": {
      "text/plain": [
       "0.9748"
      ]
     },
     "execution_count": 18,
     "metadata": {},
     "output_type": "execute_result"
    }
   ],
   "source": [
    "y_hat = bnnn.predict(mnist.test.images)\n",
    "accuracy_score(np.argmax(mnist.test.labels, 1), np.argmax(y_hat, 1))"
   ]
  },
  {
   "cell_type": "code",
   "execution_count": 24,
   "metadata": {
    "collapsed": false
   },
   "outputs": [
    {
     "data": {
      "text/plain": [
       "<matplotlib.text.Text at 0x13d921690>"
      ]
     },
     "execution_count": 24,
     "metadata": {},
     "output_type": "execute_result"
    },
    {
     "data": {
      "image/png": "[encoded data removed]",
      "text/plain": [
       "<matplotlib.figure.Figure at 0x13d0e9210>"
      ]
     },
     "metadata": {},
     "output_type": "display_data"
    }
   ],
   "source": [
    "plt.plot(map(lambda r: r[0], nn_test_accuracy), map(lambda r: r[1], nn_test_accuracy), '--', c='black', label='Without BN')\n",
    "plt.plot(map(lambda r: r[0], bnnn_test_accuracy), map(lambda r: r[1], bnnn_test_accuracy), '-', c='blue', label='With BN')\n",
    "plt.legend(loc=4)\n",
    "plt.xlabel('Iterations')\n",
    "plt.ylabel('Accuracy')\n",
    "plt.title('Test accuracy of MNIST network')"
   ]
  },
  {
   "cell_type": "markdown",
   "metadata": {
    "collapsed": true
   },
   "source": [
    "## Observation"
   ]
  },
  {
   "cell_type": "markdown",
   "metadata": {},
   "source": [
    "Using the same architecture and learning rate, BN helps the network train faster and achieves higher accruacy by removing covariate shift from internal activations.\n",
    "\n",
    "To fully take advantage of BN, one can do the following:\n",
    "- Increase learning rate: BN is resilient to larger learning rate\n",
    "- Removing Dropout: BN has the effect of regularization because training example is seen in conjuction with others. Removing Dropout can speed up training without increasing overfitting\n",
    "- Reduce $L_2$ weight regularization\n",
    "- Accelerate learning rate decay\n",
    "- Shuffle training examples more thoroughly"
   ]
  },
  {
   "cell_type": "code",
   "execution_count": null,
   "metadata": {
    "collapsed": true
   },
   "outputs": [],
   "source": []
  }
 ],
 "metadata": {
  "kernelspec": {
   "display_name": "Python 2",
   "language": "python",
   "name": "python2"
  },
  "language_info": {
   "codemirror_mode": {
    "name": "ipython",
    "version": 2
   },
   "file_extension": ".py",
   "mimetype": "text/x-python",
   "name": "python",
   "nbconvert_exporter": "python",
   "pygments_lexer": "ipython2",
   "version": "2.7.10"
  }
 },
 "nbformat": 4,
 "nbformat_minor": 1
}
